{
 "cells": [
  {
   "cell_type": "markdown",
   "metadata": {},
   "source": [
    "## Index\n",
    "\n",
    "- creating 2 files\n",
    "- build the vocab in dict form\n"
   ]
  },
  {
   "cell_type": "code",
   "execution_count": 28,
   "metadata": {},
   "outputs": [
    {
     "name": "stdout",
     "output_type": "stream",
     "text": [
      "Overwriting 1.txt\n"
     ]
    }
   ],
   "source": [
    "%%writefile 1.txt\n",
    "This is a story about cats\n",
    "There are different type of cats\n",
    "cats are very furious animal"
   ]
  },
  {
   "cell_type": "code",
   "execution_count": 29,
   "metadata": {},
   "outputs": [
    {
     "name": "stdout",
     "output_type": "stream",
     "text": [
      "Overwriting 2.txt\n"
     ]
    }
   ],
   "source": [
    "%%writefile 2.txt\n",
    "This is about a surfing \n",
    "catching waves is fun\n",
    "surfing is a popular water sport"
   ]
  },
  {
   "cell_type": "markdown",
   "metadata": {},
   "source": [
    "## build the vocab\n"
   ]
  },
  {
   "cell_type": "code",
   "execution_count": 30,
   "metadata": {},
   "outputs": [],
   "source": [
    "import spacy\n",
    "nlp = spacy.load('en_core_web_sm')"
   ]
  },
  {
   "cell_type": "code",
   "execution_count": 31,
   "metadata": {},
   "outputs": [],
   "source": [
    "with open('1.txt') as f:\n",
    "    doc1 = nlp(f.read())\n",
    "with open('2.txt') as f:\n",
    "    doc2 = nlp(f.read())"
   ]
  },
  {
   "cell_type": "code",
   "execution_count": 32,
   "metadata": {},
   "outputs": [
    {
     "name": "stdout",
     "output_type": "stream",
     "text": [
      "{'This': 1, 'is': 2, 'a': 3, 'story': 4, 'about': 5, 'cats': 6, '\\n': 7, 'There': 8, 'are': 9, 'different': 10, 'type': 11, 'of': 12, 'very': 13, 'furious': 14, 'animal': 15}\n",
      "{'This': 1, 'is': 2, 'a': 3, 'story': 4, 'about': 5, 'cats': 6, '\\n': 7, 'There': 8, 'are': 9, 'different': 10, 'type': 11, 'of': 12, 'very': 13, 'furious': 14, 'animal': 15, 'surfing': 16, 'catching': 17, 'waves': 18, 'fun': 19, 'popular': 20, 'water': 21, 'sport': 22}\n"
     ]
    }
   ],
   "source": [
    "vocab={}\n",
    "i = 1\n",
    "for t in doc1:\n",
    "    if t.text in vocab:\n",
    "        continue\n",
    "    else:\n",
    "        vocab[t.text] = i\n",
    "        i+=1\n",
    "print(vocab)\n",
    "\n",
    "# continuing with vocab dict, to add words from 2nd file too.\n",
    "for t in doc2:\n",
    "    if t.text in vocab:\n",
    "        continue\n",
    "    else:\n",
    "        vocab[t.text] = i\n",
    "        i+=1\n",
    "print(vocab)"
   ]
  },
  {
   "cell_type": "code",
   "execution_count": 33,
   "metadata": {},
   "outputs": [
    {
     "name": "stdout",
     "output_type": "stream",
     "text": [
      "\n",
      "\u001b[93m    Server error (500)\u001b[0m\n",
      "    Couldn't fetch available shortcuts. Please find a model for your spaCy\n",
      "    installation (v2.0.16), and download it manually. For more details, see\n",
      "    the documentation: https://spacy.io/usage/models\n",
      "\n"
     ]
    }
   ],
   "source": [
    "!python -m spacy download en_core_web_md\n"
   ]
  },
  {
   "cell_type": "code",
   "execution_count": null,
   "metadata": {},
   "outputs": [],
   "source": []
  }
 ],
 "metadata": {
  "kernelspec": {
   "display_name": "Python 3",
   "language": "python",
   "name": "python3"
  },
  "language_info": {
   "codemirror_mode": {
    "name": "ipython",
    "version": 3
   },
   "file_extension": ".py",
   "mimetype": "text/x-python",
   "name": "python",
   "nbconvert_exporter": "python",
   "pygments_lexer": "ipython3",
   "version": "3.7.7"
  }
 },
 "nbformat": 4,
 "nbformat_minor": 4
}
