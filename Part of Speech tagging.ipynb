{
 "cells": [
  {
   "cell_type": "markdown",
   "metadata": {},
   "source": [
    "# index\n",
    "\n",
    "- POS count"
   ]
  },
  {
   "cell_type": "code",
   "execution_count": 2,
   "metadata": {},
   "outputs": [],
   "source": [
    "import spacy\n",
    "nlp = spacy.load('en_core_web_sm')"
   ]
  },
  {
   "cell_type": "markdown",
   "metadata": {},
   "source": [
    "### simple tense also picked by spacy very nicely, 'read' verb in both sentences are used differently."
   ]
  },
  {
   "cell_type": "code",
   "execution_count": 18,
   "metadata": {},
   "outputs": [],
   "source": [
    "doc1 = nlp(u'I read books on NLP')\n",
    "doc2 = nlp(u'I read a book on NLP')"
   ]
  },
  {
   "cell_type": "code",
   "execution_count": 19,
   "metadata": {},
   "outputs": [
    {
     "name": "stdout",
     "output_type": "stream",
     "text": [
      "read       VERB       VBP        verb, non-3rd person singular present\n",
      "read       VERB       VBD        verb, past tense\n"
     ]
    }
   ],
   "source": [
    "token1 = doc1[1]\n",
    "token2 = doc2[1]\n",
    "\n",
    "print(f'{token1.text:{10}} {token1.pos_:{10}} {token1.tag_:{10}} {spacy.explain(token1.tag_):{10}}')\n",
    "print(f'{token2.text:{10}} {token2.pos_:{10}} {token2.tag_:{10}} {spacy.explain(token2.tag_):{10}}')"
   ]
  },
  {
   "cell_type": "markdown",
   "metadata": {},
   "source": [
    "### POS_count finding frequency of different POS. part of speech."
   ]
  },
  {
   "cell_type": "code",
   "execution_count": 28,
   "metadata": {},
   "outputs": [],
   "source": [
    "doc = nlp(u\"The quick brown fox jumped over the lazy dog's back\")"
   ]
  },
  {
   "cell_type": "code",
   "execution_count": 29,
   "metadata": {},
   "outputs": [],
   "source": [
    "POS_count = doc.count_by(spacy.attrs.POS)"
   ]
  },
  {
   "cell_type": "code",
   "execution_count": 30,
   "metadata": {},
   "outputs": [
    {
     "data": {
      "text/plain": [
       "{83: 3, 99: 1, 84: 1, 89: 2, 91: 3, 93: 1}"
      ]
     },
     "execution_count": 30,
     "metadata": {},
     "output_type": "execute_result"
    }
   ],
   "source": [
    "POS_count"
   ]
  },
  {
   "cell_type": "code",
   "execution_count": 31,
   "metadata": {},
   "outputs": [
    {
     "data": {
      "text/plain": [
       "'ADJ'"
      ]
     },
     "execution_count": 31,
     "metadata": {},
     "output_type": "execute_result"
    }
   ],
   "source": [
    "doc.vocab[83].text"
   ]
  },
  {
   "cell_type": "code",
   "execution_count": 32,
   "metadata": {},
   "outputs": [
    {
     "data": {
      "text/plain": [
       "83"
      ]
     },
     "execution_count": 32,
     "metadata": {},
     "output_type": "execute_result"
    }
   ],
   "source": [
    "doc[2].pos"
   ]
  },
  {
   "cell_type": "code",
   "execution_count": 33,
   "metadata": {},
   "outputs": [
    {
     "name": "stdout",
     "output_type": "stream",
     "text": [
      "dict_items([(83, 3), (99, 1), (84, 1), (89, 2), (91, 3), (93, 1)])\n",
      "[(83, 3), (84, 1), (89, 2), (91, 3), (93, 1), (99, 1)]\n"
     ]
    }
   ],
   "source": [
    "print(POS_count.items())\n",
    "print(sorted(POS_count.items()))  ## sorted list wrt first item in tuple"
   ]
  },
  {
   "cell_type": "code",
   "execution_count": 34,
   "metadata": {},
   "outputs": [
    {
     "name": "stdout",
     "output_type": "stream",
     "text": [
      "83. ADJ        3\n",
      "84. ADP        1\n",
      "89. DET        2\n",
      "91. NOUN       3\n",
      "93. PART       1\n",
      "99. VERB       1\n"
     ]
    }
   ],
   "source": [
    "for k,v in sorted(POS_count.items()):\n",
    "    print(f'{k}. {doc.vocab[k].text:{10}} {v}')\n"
   ]
  },
  {
   "cell_type": "markdown",
   "metadata": {},
   "source": [
    "### TAG_count"
   ]
  },
  {
   "cell_type": "code",
   "execution_count": 40,
   "metadata": {},
   "outputs": [
    {
     "name": "stdout",
     "output_type": "stream",
     "text": [
      "                  74. POS        1\n",
      " 1292078113972184607. IN         1\n",
      "10554686591937588953. JJ         3\n",
      "15267657372422890137. DT         2\n",
      "15308085513773655218. NN         3\n",
      "17109001835818727656. VBD        1\n"
     ]
    }
   ],
   "source": [
    "TAG_count = doc.count_by(spacy.attrs.TAG)\n",
    "for k,v in sorted(TAG_count.items()):\n",
    "    print(f'{k:>{20}}. {doc.vocab[k].text:{10}} {v}')"
   ]
  },
  {
   "cell_type": "markdown",
   "metadata": {},
   "source": [
    "### DEP_count"
   ]
  },
  {
   "cell_type": "code",
   "execution_count": 41,
   "metadata": {},
   "outputs": [
    {
     "name": "stdout",
     "output_type": "stream",
     "text": [
      "                 397. advmod     1\n",
      "                 399. amod       3\n",
      "                 412. det        2\n",
      "                 426. nsubj      1\n",
      "                 436. pobj       1\n",
      "                 440. prep       1\n",
      " 8110129090154140942. case       1\n",
      " 8206900633647566924. ROOT       1\n"
     ]
    }
   ],
   "source": [
    "DEP_count = doc.count_by(spacy.attrs.DEP)\n",
    "for k,v in sorted(DEP_count.items()):\n",
    "    print(f'{k:>{20}}. {doc.vocab[k].text:{10}} {v}')"
   ]
  },
  {
   "cell_type": "code",
   "execution_count": null,
   "metadata": {},
   "outputs": [],
   "source": []
  }
 ],
 "metadata": {
  "kernelspec": {
   "display_name": "Python 3",
   "language": "python",
   "name": "python3"
  },
  "language_info": {
   "codemirror_mode": {
    "name": "ipython",
    "version": 3
   },
   "file_extension": ".py",
   "mimetype": "text/x-python",
   "name": "python",
   "nbconvert_exporter": "python",
   "pygments_lexer": "ipython3",
   "version": "3.7.7"
  }
 },
 "nbformat": 4,
 "nbformat_minor": 4
}
